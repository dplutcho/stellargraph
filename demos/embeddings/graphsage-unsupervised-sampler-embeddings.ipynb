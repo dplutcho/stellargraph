{
 "cells": [
  {
   "cell_type": "markdown",
   "metadata": {},
   "source": [
    "# Darin notes\n",
    "* CORA linked papers datasets with bad-of-words vect per each.\n",
    "* Embedds via graphsage algo then used embeds to do a note classification.\n",
    "* random walks graph collecting possitive and negative exxample for notes\n",
    "* uses this data to train a node-pair classifier\n",
    "* then use weights/tensors from the node-pair classifier to create an embedding models\n",
    "* then use the embedding model to gen node embeddings.\n",
    "* visualize node embeds colored by subject to see it embed show sematic sim.\n",
    "* Then run a logistic regression classifier using embeds to show they work for down-steam tasks.\n"
   ]
  },
  {
   "cell_type": "markdown",
   "metadata": {},
   "source": [
    "# Node representation learning with GraphSAGE and UnsupervisedSampler\n"
   ]
  },
  {
   "cell_type": "markdown",
   "metadata": {
    "nbsphinx": "hidden",
    "tags": [
     "CloudRunner"
    ]
   },
   "source": [
    "<table><tr><td>Run the latest release of this notebook:</td><td><a href=\"https://mybinder.org/v2/gh/stellargraph/stellargraph/master?urlpath=lab/tree/demos/embeddings/graphsage-unsupervised-sampler-embeddings.ipynb\" alt=\"Open In Binder\" target=\"_parent\"><img src=\"https://mybinder.org/badge_logo.svg\"/></a></td><td><a href=\"https://colab.research.google.com/github/stellargraph/stellargraph/blob/master/demos/embeddings/graphsage-unsupervised-sampler-embeddings.ipynb\" alt=\"Open In Colab\" target=\"_parent\"><img src=\"https://colab.research.google.com/assets/colab-badge.svg\"/></a></td></tr></table>"
   ]
  },
  {
   "cell_type": "markdown",
   "metadata": {},
   "source": [
    "Stellargraph Unsupervised GraphSAGE is the implementation of GraphSAGE method outlined in the paper: [Inductive Representation Learning on Large Graphs.](http://snap.stanford.edu/graphsage/) W.L. Hamilton, R. Ying, and J. Leskovec arXiv:1706.02216\n",
    "[cs.SI], 2017. \n",
    "\n",
    "This notebook is a short demo of how Stellargraph Unsupervised GraphSAGE can be used to learn embeddings of the nodes representing papers in the [CORA citation network](https://linqs-data.soe.ucsc.edu/public/lbc/cora.tgz). Furthermore, this notebook demonstrates the use of the learnt embeddings in a downstream node classification task (classifying papers by subject). Note that the node embeddings can also be used in other graph machine learning tasks, such as link prediction, community detection, etc.\n",
    "\n",
    "## Unsupervised GraphSAGE:\n",
    "\n",
    "A high-level explanation of the unsupervised GraphSAGE method of graph representation learning is as follows.\n",
    "\n",
    "Objective: *Given a graph, learn embeddings of the nodes using only the graph structure and the node features, without using any known node class labels* (hence \"unsupervised\"; for semi-supervised learning of node embeddings, see this [demo](../node-classification/graphsage-node-classification.ipynb))\n",
    "\n",
    "**Unsupervised GraphSAGE model:** In the Unsupervised GraphSAGE model, node embeddings are learnt by solving a simple classification task: given a large set of \"positive\" `(target, context)` node pairs generated from random walks performed on the graph (i.e., node pairs that co-occur within a certain context window in random walks), and an equally large set of \"negative\" node pairs that are randomly selected from the graph according to a certain distribution, learn a binary classifier that predicts whether arbitrary node pairs are likely to co-occur in a random walk performed on the graph. Through learning this simple binary node-pair-classification task, the model automatically learns an inductive mapping from attributes of nodes and their neighbors to node embeddings in a high-dimensional vector space, which preserves structural and feature similarities of the nodes. Unlike embeddings obtained by algorithms such as [Node2Vec](https://snap.stanford.edu/node2vec), this mapping is inductive: given a new node (with attributes) and its links to other nodes in the graph (which was unseen during model training), we can evaluate its embeddings without having to re-train the model. \n",
    "\n",
    "In our implementation of Unsupervised GraphSAGE, the training set of node pairs is composed of an equal number of positive and negative `(target, context)` pairs from the graph. The positive `(target, context)` pairs are the node pairs co-occurring on random walks over the graph whereas the negative node pairs are sampled randomly from a global node degree distribution of the graph.\n",
    "\n",
    "The architecture of the node pair classifier is the following. Input node pairs (with node features) are fed, together with the graph structure, into a pair of identical GraphSAGE encoders, producing a pair of node embeddings. These embeddings are then fed into a node pair classification layer, which applies a binary operator to those node embeddings (e.g., concatenating them), and passes the resulting node pair embeddings through a linear transform followed by a binary activation (e.g., sigmoid), thus predicting a binary label for the node pair. \n",
    "\n",
    "The entire model is trained end-to-end by minimizing the loss function of choice (e.g., binary cross-entropy between predicted node pair labels and true link labels) using stochastic gradient descent (SGD) updates of the model parameters, with minibatches of 'training' links generated on demand and fed into the model.\n",
    "\n",
    "Node embeddings obtained from the encoder part of the trained classifier can be used in various downstream tasks. In this demo, we show how these can be used for predicting node labels."
   ]
  },
  {
   "cell_type": "code",
   "execution_count": null,
   "metadata": {
    "nbsphinx": "hidden",
    "tags": [
     "CloudRunner"
    ]
   },
   "outputs": [],
   "source": [
    "# install StellarGraph if running on Google Colab\n",
    "# import sys\n",
    "# if 'google.colab' in sys.modules:\n",
    "#   %pip install -q stellargraph[demos]==1.3.0b\n",
    "\n",
    "!pip install --upgrade stellargraph[demos]"
   ]
  },
  {
   "cell_type": "code",
   "execution_count": 73,
   "metadata": {
    "nbsphinx": "hidden",
    "tags": [
     "VersionCheck"
    ]
   },
   "outputs": [],
   "source": [
    "import sys\n",
    "import stellargraph as sg\n",
    "from stellargraph import StellarGraph"
   ]
  },
  {
   "cell_type": "code",
   "execution_count": 74,
   "metadata": {},
   "outputs": [],
   "source": [
    "import networkx as nx\n",
    "import pandas as pd\n",
    "import numpy as np\n",
    "import os\n",
    "import random\n",
    "\n",
    "import stellargraph as sg\n",
    "from stellargraph.data import EdgeSplitter\n",
    "from stellargraph.mapper import GraphSAGELinkGenerator\n",
    "from stellargraph.layer import GraphSAGE, link_classification\n",
    "from stellargraph.data import UniformRandomWalk\n",
    "from stellargraph.data import UnsupervisedSampler\n",
    "from sklearn.model_selection import train_test_split\n",
    "\n",
    "from tensorflow import keras\n",
    "from sklearn import preprocessing, feature_extraction, model_selection\n",
    "from sklearn.linear_model import LogisticRegressionCV, LogisticRegression\n",
    "from sklearn.metrics import accuracy_score\n",
    "\n",
    "from stellargraph import globalvar\n",
    "\n",
    "from stellargraph import datasets\n",
    "from IPython.display import display, HTML"
   ]
  },
  {
   "cell_type": "markdown",
   "metadata": {},
   "source": [
    "## Loading the CORA network data"
   ]
  },
  {
   "cell_type": "markdown",
   "metadata": {
    "tags": [
     "DataLoadingLinks"
    ]
   },
   "source": [
    "(See [the \"Loading from Pandas\" demo](../basics/loading-pandas.ipynb) for details on how data can be loaded.)"
   ]
  },
  {
   "cell_type": "code",
   "execution_count": 75,
   "metadata": {
    "tags": [
     "DataLoading"
    ]
   },
   "outputs": [
    {
     "data": {
      "text/html": [
       "The Cora dataset consists of 2708 scientific publications classified into one of seven classes. The citation network consists of 5429 links. Each publication in the dataset is described by a 0/1-valued word vector indicating the absence/presence of the corresponding word from the dictionary. The dictionary consists of 1433 unique words."
      ],
      "text/plain": [
       "<IPython.core.display.HTML object>"
      ]
     },
     "metadata": {},
     "output_type": "display_data"
    }
   ],
   "source": [
    "dataset = datasets.Cora()\n",
    "display(HTML(dataset.description))\n",
    "G, node_subjects = dataset.load()"
   ]
  },
  {
   "cell_type": "code",
   "execution_count": 76,
   "metadata": {},
   "outputs": [
    {
     "name": "stdout",
     "output_type": "stream",
     "text": [
      "StellarGraph: Undirected multigraph\n",
      " Nodes: 2708, Edges: 5429\n",
      "\n",
      " Node types:\n",
      "  paper: [2708]\n",
      "    Features: float32 vector, length 1433\n",
      "    Edge types: paper-cites->paper\n",
      "\n",
      " Edge types:\n",
      "    paper-cites->paper: [5429]\n",
      "        Weights: all 1 (default)\n",
      "        Features: none\n"
     ]
    }
   ],
   "source": [
    "print(G.info())"
   ]
  },
  {
   "cell_type": "markdown",
   "metadata": {},
   "source": [
    "## EDA - darin"
   ]
  },
  {
   "cell_type": "code",
   "execution_count": 77,
   "metadata": {},
   "outputs": [
    {
     "data": {
      "text/plain": [
       "\u001b[0;31mType:\u001b[0m        Cora\n",
       "\u001b[0;31mString form:\u001b[0m <stellargraph.datasets.datasets.Cora object at 0x7f0ce23603d0>\n",
       "\u001b[0;31mFile:\u001b[0m        /opt/conda/lib/python3.7/site-packages/stellargraph/datasets/datasets.py\n",
       "\u001b[0;31mDocstring:\u001b[0m  \n",
       "The Cora dataset consists of 2708 scientific publications classified into one of seven classes. The citation network consists of 5429 links. Each publication in the dataset is described by a 0/1-valued word vector indicating the absence/presence of the corresponding word from the dictionary. The dictionary consists of 1433 unique words.\n",
       "\n",
       ".. seealso::\n",
       "\n",
       "   For more information about loading data for graph machine learning:\n",
       "\n",
       "   - :class:`.StellarGraph`\n",
       "   - `Examples of loading data <https://stellargraph.readthedocs.io/en/stable/demos/basics/index.html>`__\n",
       "\n",
       "   The source of this dataset: https://linqs.soe.ucsc.edu/data\n"
      ]
     },
     "metadata": {},
     "output_type": "display_data"
    }
   ],
   "source": [
    "dataset?"
   ]
  },
  {
   "cell_type": "code",
   "execution_count": 78,
   "metadata": {},
   "outputs": [
    {
     "name": "stdout",
     "output_type": "stream",
     "text": [
      "2708\n"
     ]
    },
    {
     "data": {
      "text/plain": [
       "31336             Neural_Networks\n",
       "1061127             Rule_Learning\n",
       "1106406    Reinforcement_Learning\n",
       "13195      Reinforcement_Learning\n",
       "37879       Probabilistic_Methods\n",
       "                    ...          \n",
       "1128975        Genetic_Algorithms\n",
       "1128977        Genetic_Algorithms\n",
       "1128978        Genetic_Algorithms\n",
       "117328                 Case_Based\n",
       "24043             Neural_Networks\n",
       "Name: subject, Length: 2708, dtype: object"
      ]
     },
     "execution_count": 78,
     "metadata": {},
     "output_type": "execute_result"
    }
   ],
   "source": [
    "print(len(node_subjects))\n",
    "node_subjects"
   ]
  },
  {
   "cell_type": "code",
   "execution_count": 79,
   "metadata": {},
   "outputs": [
    {
     "data": {
      "text/plain": [
       "Counter({'Neural_Networks': 818,\n",
       "         'Rule_Learning': 180,\n",
       "         'Reinforcement_Learning': 217,\n",
       "         'Probabilistic_Methods': 426,\n",
       "         'Theory': 351,\n",
       "         'Genetic_Algorithms': 418,\n",
       "         'Case_Based': 298})"
      ]
     },
     "execution_count": 79,
     "metadata": {},
     "output_type": "execute_result"
    }
   ],
   "source": [
    "from collections import Counter\n",
    "Counter(node_subjects.values.tolist())"
   ]
  },
  {
   "cell_type": "code",
   "execution_count": 80,
   "metadata": {},
   "outputs": [
    {
     "name": "stdout",
     "output_type": "stream",
     "text": [
      "StellarGraph: Undirected multigraph\n",
      " Nodes: 2708, Edges: 5429\n",
      "\n",
      " Node types:\n",
      "  paper: [2708]\n",
      "    Features: float32 vector, length 1433\n",
      "    Edge types: paper-cites->paper\n",
      "\n",
      " Edge types:\n",
      "    paper-cites->paper: [5429]\n",
      "        Weights: all 1 (default)\n",
      "        Features: none\n"
     ]
    }
   ],
   "source": [
    "print(G.info())"
   ]
  },
  {
   "cell_type": "code",
   "execution_count": 81,
   "metadata": {},
   "outputs": [
    {
     "data": {
      "text/plain": [
       "Int64Index([  31336, 1061127, 1106406,   13195,   37879, 1126012, 1107140,\n",
       "            1102850,   31349, 1106418,\n",
       "            ...\n",
       "             626531, 1131180, 1130454, 1131184, 1128974, 1128975, 1128977,\n",
       "            1128978,  117328,   24043],\n",
       "           dtype='int64', length=2708)"
      ]
     },
     "execution_count": 81,
     "metadata": {},
     "output_type": "execute_result"
    }
   ],
   "source": [
    "# list of indexes.\n",
    "nodes = G.nodes()\n",
    "nodes"
   ]
  },
  {
   "cell_type": "code",
   "execution_count": 82,
   "metadata": {},
   "outputs": [
    {
     "data": {
      "text/plain": [
       "<stellargraph.core.graph.StellarGraph at 0x7f0ce24f77d0>"
      ]
     },
     "execution_count": 82,
     "metadata": {},
     "output_type": "execute_result"
    }
   ],
   "source": [
    "G"
   ]
  },
  {
   "cell_type": "markdown",
   "metadata": {},
   "source": [
    "## Unsupervised GraphSAGE  with on demand sampling\n",
    "The Unsupervised GraphSAGE requires a training sample that can be either provided as a list of `(target, context)` node pairs or it can be provided with an `UnsupervisedSampler` instance that takes care of generating positive and negative samples of node pairs on demand. In this demo we discuss the latter technique. \n",
    "\n",
    "### UnsupervisedSampler:\n",
    "The `UnsupervisedSampler` class takes in a `Stellargraph` graph instance. The `generator` method in the `UnsupervisedSampler`  is responsible for generating equal number of positive and negative node pair samples from the graph  for training. The samples are generated by performing uniform random walks over the graph, using `UniformRandomWalk` object. Positive `(target, context)` node pairs are extracted from the walks, and for each \n",
    "positive pair a corresponding negative pair `(target, node)` is generated by randomly sampling `node` from the degree distribution of the graph. Once the `batch_size` number of samples is accumulated, the generator yields a list of positive and negative node pairs along with their respective 1/0 labels.  \n",
    "\n",
    "In the current implementation, we use uniform random walks to explore the graph structure. The length and number of walks, as well as the root nodes for starting the walks can be user-specified. The default list for root nodes is all nodes of the graph, default `number_of_walks` is 1 (at least one walk per root node), and the default `length` of walks is 2 (need at least one node beyond the root node on the walk as a potential positive context)."
   ]
  },
  {
   "cell_type": "markdown",
   "metadata": {},
   "source": [
    "**1. Specify the other optional parameter values: root nodes, the number of walks to take per node, the length of each walk, and random seed.**"
   ]
  },
  {
   "cell_type": "code",
   "execution_count": 83,
   "metadata": {},
   "outputs": [],
   "source": [
    "nodes = list(G.nodes())\n",
    "number_of_walks = 1\n",
    "length = 5"
   ]
  },
  {
   "cell_type": "code",
   "execution_count": 84,
   "metadata": {},
   "outputs": [
    {
     "data": {
      "text/plain": [
       "Int64Index([  31336, 1061127, 1106406,   13195,   37879, 1126012, 1107140,\n",
       "            1102850,   31349, 1106418,\n",
       "            ...\n",
       "             626531, 1131180, 1130454, 1131184, 1128974, 1128975, 1128977,\n",
       "            1128978,  117328,   24043],\n",
       "           dtype='int64', length=2708)"
      ]
     },
     "execution_count": 84,
     "metadata": {},
     "output_type": "execute_result"
    }
   ],
   "source": [
    "G.nodes()"
   ]
  },
  {
   "cell_type": "markdown",
   "metadata": {},
   "source": [
    "**2. Create the UnsupervisedSampler instance with the relevant parameters passed to it.**"
   ]
  },
  {
   "cell_type": "code",
   "execution_count": 85,
   "metadata": {},
   "outputs": [],
   "source": [
    "unsupervised_samples = UnsupervisedSampler(\n",
    "    G, nodes=nodes, length=length, number_of_walks=number_of_walks\n",
    ")"
   ]
  },
  {
   "cell_type": "markdown",
   "metadata": {},
   "source": [
    "The graph G together with the unsupervised sampler will be used to generate samples."
   ]
  },
  {
   "cell_type": "markdown",
   "metadata": {},
   "source": [
    "## Darin sampling exporation"
   ]
  },
  {
   "cell_type": "code",
   "execution_count": 86,
   "metadata": {},
   "outputs": [
    {
     "data": {
      "text/plain": [
       "1"
      ]
     },
     "execution_count": 86,
     "metadata": {},
     "output_type": "execute_result"
    }
   ],
   "source": [
    "unsupervised_samples.number_of_walks "
   ]
  },
  {
   "cell_type": "code",
   "execution_count": 87,
   "metadata": {},
   "outputs": [
    {
     "data": {
      "text/plain": [
       "<stellargraph.data.explorer.UniformRandomWalk at 0x7f0ce2426190>"
      ]
     },
     "execution_count": 87,
     "metadata": {},
     "output_type": "execute_result"
    }
   ],
   "source": [
    "unsupervised_samples.walker"
   ]
  },
  {
   "cell_type": "code",
   "execution_count": 88,
   "metadata": {},
   "outputs": [
    {
     "data": {
      "text/plain": [
       "dict_keys(['graph', 'walker', 'nodes', 'length', 'number_of_walks', 'np_random'])"
      ]
     },
     "execution_count": 88,
     "metadata": {},
     "output_type": "execute_result"
    }
   ],
   "source": [
    "unsupervised_samples.__dict__.keys()"
   ]
  },
  {
   "cell_type": "code",
   "execution_count": 89,
   "metadata": {},
   "outputs": [],
   "source": [
    "samp_walk = unsupervised_samples.run(10)"
   ]
  },
  {
   "cell_type": "code",
   "execution_count": 90,
   "metadata": {},
   "outputs": [
    {
     "data": {
      "text/plain": [
       "(array([[1441, 1513],\n",
       "        [ 608,  125],\n",
       "        [1256,  881],\n",
       "        [1673,   75],\n",
       "        [2412, 2412],\n",
       "        [2084, 1004],\n",
       "        [ 873,  920],\n",
       "        [1317, 1354],\n",
       "        [ 857, 1250],\n",
       "        [ 939,  100]]),\n",
       " array([0, 1, 1, 0, 1, 0, 1, 1, 0, 0]))"
      ]
     },
     "execution_count": 90,
     "metadata": {},
     "output_type": "execute_result"
    }
   ],
   "source": [
    "samp_walk[0]"
   ]
  },
  {
   "cell_type": "code",
   "execution_count": null,
   "metadata": {},
   "outputs": [],
   "source": []
  },
  {
   "cell_type": "markdown",
   "metadata": {},
   "source": [
    "**3. Create a node pair generator:**\n",
    "\n",
    "Next, create the node pair generator for sampling and streaming the training data to the model. The node pair generator essentially \"maps\" pairs of nodes `(target, context)` to the input of GraphSAGE: it either takes minibatches of node pairs, or an `UnsupervisedSampler` instance which generates the minibatches of node pairs on demand. The generator samples 2-hop subgraphs with `(target, context)` head nodes extracted from those pairs, and feeds them, together with the corresponding binary labels indicating which pair represent positive or negative sample, to the input layer of the node pair classifier with GraphSAGE node encoder, for SGD updates of the model parameters.\n",
    "\n",
    "Specify:\n",
    "1. The minibatch size (number of node pairs per minibatch).\n",
    "2. The number of epochs for training the model.\n",
    "3. The sizes of 1- and 2-hop neighbor samples for GraphSAGE:\n",
    "\n",
    "Note that the length of `num_samples` list defines the number of layers/iterations in the GraphSAGE encoder. In this example, we are defining a 2-layer GraphSAGE encoder."
   ]
  },
  {
   "cell_type": "code",
   "execution_count": 91,
   "metadata": {},
   "outputs": [],
   "source": [
    "batch_size = 50\n",
    "epochs = 4\n",
    "num_samples = [10, 5]"
   ]
  },
  {
   "cell_type": "markdown",
   "metadata": {},
   "source": [
    "In the following we show the working of node pair generator with the UnsupervisedSampler, which will generate samples on demand."
   ]
  },
  {
   "cell_type": "code",
   "execution_count": 92,
   "metadata": {},
   "outputs": [],
   "source": [
    "generator = GraphSAGELinkGenerator(G, batch_size, num_samples)\n",
    "train_gen = generator.flow(unsupervised_samples)"
   ]
  },
  {
   "cell_type": "markdown",
   "metadata": {},
   "source": [
    "Build the model: a 2-layer GraphSAGE encoder acting as node representation learner, with a link classification layer on concatenated (`citing-paper`, `cited-paper`) node embeddings.\n",
    "\n",
    "GraphSAGE part of the model, with hidden layer sizes of 50 for both GraphSAGE layers, a bias term, and no dropout. (Dropout can be switched on by specifying a positive dropout rate, 0 < dropout < 1).\n",
    "Note that the length of `layer_sizes` list must be equal to the length of `num_samples`, as `len(num_samples)` defines the number of hops (layers) in the GraphSAGE encoder."
   ]
  },
  {
   "cell_type": "code",
   "execution_count": 93,
   "metadata": {},
   "outputs": [
    {
     "data": {
      "text/plain": [
       "\u001b[0;31mType:\u001b[0m        OnDemandLinkSequence\n",
       "\u001b[0;31mString form:\u001b[0m <stellargraph.mapper.sequences.OnDemandLinkSequence object at 0x7f0ce25af710>\n",
       "\u001b[0;31mLength:\u001b[0m      434\n",
       "\u001b[0;31mFile:\u001b[0m        /opt/conda/lib/python3.7/site-packages/stellargraph/mapper/sequences.py\n",
       "\u001b[0;31mDocstring:\u001b[0m  \n",
       "Keras-compatible data generator to use with Keras methods :meth:`keras.Model.fit`,\n",
       ":meth:`keras.Model.evaluate`, and :meth:`keras.Model.predict`\n",
       "\n",
       "This class generates data samples for link inference models\n",
       "and should be created using the :meth:`flow` method of\n",
       ":class:`.GraphSAGELinkGenerator` or :class:`.Attri2VecLinkGenerator`.\n",
       "\n",
       "Args:\n",
       "    sample_function (Callable): A function that returns features for supplied head nodes.\n",
       "    sampler (UnsupersizedSampler):  An object that encapsulates the neighbourhood sampling of a graph.\n",
       "        The generator method of this class returns a batch of positive and negative samples on demand.\n"
      ]
     },
     "metadata": {},
     "output_type": "display_data"
    }
   ],
   "source": [
    "train_gen?"
   ]
  },
  {
   "cell_type": "code",
   "execution_count": 94,
   "metadata": {},
   "outputs": [],
   "source": [
    "itr = iter(train_gen)"
   ]
  },
  {
   "cell_type": "code",
   "execution_count": 95,
   "metadata": {},
   "outputs": [
    {
     "data": {
      "text/plain": [
       "(50, 1, 1433)"
      ]
     },
     "execution_count": 95,
     "metadata": {},
     "output_type": "execute_result"
    }
   ],
   "source": [
    "type(next(itr)[0])\n",
    "next(itr)[0][0].shape"
   ]
  },
  {
   "cell_type": "code",
   "execution_count": 96,
   "metadata": {},
   "outputs": [
    {
     "data": {
      "text/plain": [
       "numpy.ndarray"
      ]
     },
     "execution_count": 96,
     "metadata": {},
     "output_type": "execute_result"
    }
   ],
   "source": [
    "type(next(itr)[1])"
   ]
  },
  {
   "cell_type": "code",
   "execution_count": 97,
   "metadata": {},
   "outputs": [
    {
     "data": {
      "text/plain": [
       "(50,)"
      ]
     },
     "execution_count": 97,
     "metadata": {},
     "output_type": "execute_result"
    }
   ],
   "source": [
    "next(itr)[1].shape"
   ]
  },
  {
   "cell_type": "code",
   "execution_count": null,
   "metadata": {},
   "outputs": [],
   "source": []
  },
  {
   "cell_type": "code",
   "execution_count": 98,
   "metadata": {},
   "outputs": [],
   "source": [
    "layer_sizes = [50, 50]\n",
    "graphsage = GraphSAGE(\n",
    "    layer_sizes=layer_sizes, generator=generator, bias=True, dropout=0.0, normalize=\"l2\"\n",
    ")"
   ]
  },
  {
   "cell_type": "code",
   "execution_count": 99,
   "metadata": {},
   "outputs": [],
   "source": [
    "# Build the model and expose input and output sockets of graphsage, for node pair inputs:\n",
    "x_inp, x_out = graphsage.in_out_tensors()"
   ]
  },
  {
   "cell_type": "markdown",
   "metadata": {},
   "source": [
    "Final node pair classification layer that takes a pair of nodes' embeddings produced by `graphsage` encoder, applies a binary operator to them to produce the corresponding node pair embedding (`ip` for inner product; other options for the binary operator can be seen by running a cell with `?link_classification` in it), and passes it through a dense layer:"
   ]
  },
  {
   "cell_type": "code",
   "execution_count": 100,
   "metadata": {},
   "outputs": [
    {
     "name": "stdout",
     "output_type": "stream",
     "text": [
      "link_classification: using 'ip' method to combine node embeddings into edge embeddings\n"
     ]
    }
   ],
   "source": [
    "prediction = link_classification(\n",
    "    output_dim=1, output_act=\"sigmoid\", edge_embedding_method=\"ip\"\n",
    ")(x_out)"
   ]
  },
  {
   "cell_type": "markdown",
   "metadata": {},
   "source": [
    "Stack the GraphSAGE encoder and prediction layer into a Keras model, and specify the loss"
   ]
  },
  {
   "cell_type": "code",
   "execution_count": 101,
   "metadata": {},
   "outputs": [],
   "source": [
    "model = keras.Model(inputs=x_inp, outputs=prediction)\n",
    "\n",
    "model.compile(\n",
    "    optimizer=keras.optimizers.Adam(lr=1e-3),\n",
    "    loss=keras.losses.binary_crossentropy,\n",
    "    metrics=[keras.metrics.binary_accuracy],\n",
    ")"
   ]
  },
  {
   "cell_type": "markdown",
   "metadata": {},
   "source": [
    "**4. Train the model.**\n",
    "* Training the nod pair classifier using the neg and pos sample per above gen"
   ]
  },
  {
   "cell_type": "code",
   "execution_count": 102,
   "metadata": {},
   "outputs": [
    {
     "name": "stdout",
     "output_type": "stream",
     "text": [
      "Epoch 1/4\n",
      "434/434 [==============================] - 47s 103ms/step - loss: 0.5714 - binary_accuracy: 0.7275\n",
      "Epoch 2/4\n",
      "434/434 [==============================] - 45s 102ms/step - loss: 0.5425 - binary_accuracy: 0.7685\n",
      "Epoch 3/4\n",
      "434/434 [==============================] - 46s 104ms/step - loss: 0.5386 - binary_accuracy: 0.7737\n",
      "Epoch 4/4\n",
      "434/434 [==============================] - 44s 101ms/step - loss: 0.5373 - binary_accuracy: 0.7836\n"
     ]
    }
   ],
   "source": [
    "history = model.fit(\n",
    "    train_gen,\n",
    "    epochs=epochs,\n",
    "    verbose=1,\n",
    "    use_multiprocessing=False,\n",
    "    workers=4,\n",
    "    shuffle=True,\n",
    ")"
   ]
  },
  {
   "cell_type": "markdown",
   "metadata": {},
   "source": [
    "Note that multiprocessing is switched off, since with a large training set of node pairs, multiprocessing can considerably slow down the training process with the data being transferred between various processes. \n",
    "\n",
    "Also, multiple workers can be used with `Keras version 2.2.4` and above, and it speeds up the training process considerably due to multi-threading."
   ]
  },
  {
   "cell_type": "markdown",
   "metadata": {},
   "source": [
    "## Extracting node embeddings\n",
    "Now that the node pair classifier is trained, we can use its node encoder part as node embeddings evaluator. Below we evaluate node embeddings as activations of the output of GraphSAGE layer stack, and visualise them, coloring nodes by their subject label."
   ]
  },
  {
   "cell_type": "code",
   "execution_count": 103,
   "metadata": {},
   "outputs": [],
   "source": [
    "from sklearn.decomposition import PCA\n",
    "from sklearn.manifold import TSNE\n",
    "from stellargraph.mapper import GraphSAGENodeGenerator\n",
    "import pandas as pd\n",
    "import numpy as np\n",
    "import matplotlib.pyplot as plt\n",
    "\n",
    "%matplotlib inline"
   ]
  },
  {
   "cell_type": "markdown",
   "metadata": {},
   "source": [
    "**Building a new node-based model**\n",
    "* directly stealing weights/tensors from the above trained node pair model and used to gen embeddings>\n",
    "\n",
    "The `(src, dst)` node pair classifier `model` has two identical node encoders: one for source nodes in the node pairs, the other for destination nodes in the node pairs passed to the model. We can use either of the two identical encoders to evaluate node embeddings. Below we create an embedding model by defining a new Keras model with `x_inp_src` (a list of odd elements in `x_inp`) and `x_out_src` (the 1st element in `x_out`) as input and output, respectively. Note that this model's weights are the same as those of the corresponding node encoder in the previously trained node pair classifier."
   ]
  },
  {
   "cell_type": "code",
   "execution_count": 104,
   "metadata": {},
   "outputs": [],
   "source": [
    "x_inp_src = x_inp[0::2]\n",
    "x_out_src = x_out[0]\n",
    "embedding_model = keras.Model(inputs=x_inp_src, outputs=x_out_src)"
   ]
  },
  {
   "cell_type": "code",
   "execution_count": 105,
   "metadata": {},
   "outputs": [
    {
     "data": {
      "text/plain": [
       "[<KerasTensor: shape=(None, 1, 1433) dtype=float32 (created by layer 'input_7')>,\n",
       " <KerasTensor: shape=(None, 10, 1433) dtype=float32 (created by layer 'input_8')>,\n",
       " <KerasTensor: shape=(None, 50, 1433) dtype=float32 (created by layer 'input_9')>]"
      ]
     },
     "execution_count": 105,
     "metadata": {},
     "output_type": "execute_result"
    }
   ],
   "source": [
    "x_inp_src"
   ]
  },
  {
   "cell_type": "code",
   "execution_count": 106,
   "metadata": {},
   "outputs": [
    {
     "data": {
      "text/plain": [
       "<KerasTensor: shape=(None, 50) dtype=float32 (created by layer 'lambda_1')>"
      ]
     },
     "execution_count": 106,
     "metadata": {},
     "output_type": "execute_result"
    }
   ],
   "source": [
    "x_out_src"
   ]
  },
  {
   "cell_type": "code",
   "execution_count": 107,
   "metadata": {},
   "outputs": [
    {
     "data": {
      "text/plain": [
       "<tensorflow.python.keras.engine.functional.Functional at 0x7f0cd9743610>"
      ]
     },
     "execution_count": 107,
     "metadata": {},
     "output_type": "execute_result"
    }
   ],
   "source": [
    "embedding_model"
   ]
  },
  {
   "cell_type": "markdown",
   "metadata": {},
   "source": [
    "We also need a node generator to feed graph nodes to `embedding_model`. We want to evaluate node embeddings for all nodes in the graph:"
   ]
  },
  {
   "cell_type": "code",
   "execution_count": 108,
   "metadata": {},
   "outputs": [
    {
     "data": {
      "text/plain": [
       "\u001b[0;31mSignature:\u001b[0m      \u001b[0membedding_model\u001b[0m\u001b[0;34m(\u001b[0m\u001b[0;34m*\u001b[0m\u001b[0margs\u001b[0m\u001b[0;34m,\u001b[0m \u001b[0;34m**\u001b[0m\u001b[0mkwargs\u001b[0m\u001b[0;34m)\u001b[0m\u001b[0;34m\u001b[0m\u001b[0;34m\u001b[0m\u001b[0m\n",
       "\u001b[0;31mType:\u001b[0m           Functional\n",
       "\u001b[0;31mString form:\u001b[0m    <tensorflow.python.keras.engine.functional.Functional object at 0x7f0cd9743610>\n",
       "\u001b[0;31mFile:\u001b[0m           /opt/conda/lib/python3.7/site-packages/tensorflow/python/keras/engine/functional.py\n",
       "\u001b[0;31mDocstring:\u001b[0m     \n",
       "A `Functional` model is a `Model` defined as a directed graph of layers.\n",
       "\n",
       "Three types of `Model` exist: subclassed `Model`, `Functional` model,\n",
       "and `Sequential` (a special case of `Functional`).\n",
       "In general, more Keras features are supported with `Functional`\n",
       "than with subclassed `Model`s, specifically:\n",
       "\n",
       "- Model cloning (`keras.models.clone`)\n",
       "- Serialization (`model.get_config()/from_config`, `model.to_json()/to_yaml()`\n",
       "- Whole-model saving (`model.save()`)\n",
       "\n",
       "A `Functional` model can be instantiated by passing two arguments to\n",
       "`__init__`. The first argument is the `keras.Input` Tensors that represent\n",
       "the inputs to the model. The second argument specifies the output\n",
       "tensors that represent the outputs of this model. Both arguments can be a\n",
       "nested structure of tensors.\n",
       "\n",
       "Example:\n",
       "\n",
       "```\n",
       "inputs = {'x1': keras.Input(shape=(10,)), 'x2': keras.Input(shape=(1,))}\n",
       "t = keras.layers.Dense(1, activation='relu')(inputs['x1'])\n",
       "outputs = keras.layers.Add()([t, inputs['x2'])\n",
       "model = keras.Model(inputs, outputs)\n",
       "```\n",
       "\n",
       "A `Functional` model constructed using the Functional API can also include raw\n",
       "TensorFlow functions, with the exception of functions that create Variables\n",
       "or assign ops.\n",
       "\n",
       "Example:\n",
       "\n",
       "```\n",
       "inputs = keras.Input(shape=(10,))\n",
       "x = keras.layers.Dense(1)(inputs)\n",
       "outputs = tf.nn.relu(x)\n",
       "model = keras.Model(inputs, outputs)\n",
       "```\n",
       "\n",
       "Args:\n",
       "  inputs: List of input tensors (must be created via `tf.keras.Input()`).\n",
       "  outputs: List of output tensors.\n",
       "  name: String, optional. Name of the model.\n",
       "  trainable: Boolean, optional. If the model's variables should be trainable.\n",
       "\u001b[0;31mCall docstring:\u001b[0m\n",
       "Wraps `call`, applying pre- and post-processing steps.\n",
       "\n",
       "Args:\n",
       "  *args: Positional arguments to be passed to `self.call`.\n",
       "  **kwargs: Keyword arguments to be passed to `self.call`.\n",
       "\n",
       "Returns:\n",
       "  Output tensor(s).\n",
       "\n",
       "Note:\n",
       "  - The following optional keyword arguments are reserved for specific uses:\n",
       "    * `training`: Boolean scalar tensor of Python boolean indicating\n",
       "      whether the `call` is meant for training or inference.\n",
       "    * `mask`: Boolean input mask.\n",
       "  - If the layer's `call` method takes a `mask` argument (as some Keras\n",
       "    layers do), its default value will be set to the mask generated\n",
       "    for `inputs` by the previous layer (if `input` did come from\n",
       "    a layer that generated a corresponding mask, i.e. if it came from\n",
       "    a Keras layer with masking support.\n",
       "  - If the layer is not built, the method will call `build`.\n",
       "\n",
       "Raises:\n",
       "  ValueError: if the layer's `call` method returns None (an invalid value).\n",
       "  RuntimeError: if `super().__init__()` was not called in the constructor.\n"
      ]
     },
     "metadata": {},
     "output_type": "display_data"
    }
   ],
   "source": [
    "embedding_model?"
   ]
  },
  {
   "cell_type": "code",
   "execution_count": 109,
   "metadata": {},
   "outputs": [
    {
     "data": {
      "text/plain": [
       "[<tensorflow.python.keras.engine.input_layer.InputLayer at 0x7f0ce24a9d50>,\n",
       " <tensorflow.python.keras.engine.input_layer.InputLayer at 0x7f0ce2423c50>,\n",
       " <tensorflow.python.keras.engine.input_layer.InputLayer at 0x7f0ce24a9e90>,\n",
       " <tensorflow.python.keras.layers.core.Reshape at 0x7f0ce2418190>,\n",
       " <tensorflow.python.keras.layers.core.Reshape at 0x7f0ce23f5090>,\n",
       " <tensorflow.python.keras.layers.core.Dropout at 0x7f0ce2418810>,\n",
       " <tensorflow.python.keras.layers.core.Dropout at 0x7f0ce24189d0>,\n",
       " <tensorflow.python.keras.layers.core.Dropout at 0x7f0ce2423790>,\n",
       " <tensorflow.python.keras.layers.core.Dropout at 0x7f0ce2409710>,\n",
       " <stellargraph.layer.graphsage.MeanAggregator at 0x7f0ce24a9310>,\n",
       " <tensorflow.python.keras.layers.core.Reshape at 0x7f0ce23c0090>,\n",
       " <tensorflow.python.keras.layers.core.Dropout at 0x7f0ce23d4d10>,\n",
       " <tensorflow.python.keras.layers.core.Dropout at 0x7f0ce254a490>,\n",
       " <stellargraph.layer.graphsage.MeanAggregator at 0x7f0ce24a9a50>,\n",
       " <tensorflow.python.keras.layers.core.Reshape at 0x7f0ce23dbad0>,\n",
       " <tensorflow.python.keras.layers.core.Lambda at 0x7f0ce24a93d0>]"
      ]
     },
     "execution_count": 109,
     "metadata": {},
     "output_type": "execute_result"
    }
   ],
   "source": [
    "embedding_model.layers"
   ]
  },
  {
   "cell_type": "code",
   "execution_count": 115,
   "metadata": {},
   "outputs": [
    {
     "name": "stdout",
     "output_type": "stream",
     "text": [
      "backend: tensorflow\n",
      "class_name: Functional\n",
      "config:\n",
      "  input_layers:\n",
      "  - - input_7\n",
      "    - 0\n",
      "    - 0\n",
      "  - - input_8\n",
      "    - 0\n",
      "    - 0\n",
      "  - - input_9\n",
      "    - 0\n",
      "    - 0\n",
      "  layers:\n",
      "  - !!python/object/new:tensorflow.python.keras.utils.generic_utils.SharedObjectConfig\n",
      "    dictitems:\n",
      "      class_name: InputLayer\n",
      "      config:\n",
      "        batch_input_shape: !!python/tuple\n",
      "        - null\n",
      "        - !!python/object/apply:numpy.core.multiarray.scalar\n",
      "          - &id001 !!python/object/apply:numpy.dtype\n",
      "            args:\n",
      "            - i8\n",
      "            - false\n",
      "            - true\n",
      "            state: !!python/tuple\n",
      "            - 3\n",
      "            - <\n",
      "            - null\n",
      "            - null\n",
      "            - null\n",
      "            - -1\n",
      "            - -1\n",
      "            - 0\n",
      "          - !!binary |\n",
      "            CgAAAAAAAAA=\n",
      "        - 1433\n",
      "        dtype: float32\n",
      "        name: input_8\n",
      "        ragged: false\n",
      "        sparse: false\n",
      "      inbound_nodes: []\n",
      "      name: input_8\n",
      "    state:\n",
      "      object_id: 0\n",
      "      ref_count: 1\n",
      "  - !!python/object/new:tensorflow.python.keras.utils.generic_utils.SharedObjectConfig\n",
      "    dictitems:\n",
      "      class_name: InputLayer\n",
      "      config:\n",
      "        batch_input_shape: !!python/tuple\n",
      "        - null\n",
      "        - !!python/object/apply:numpy.core.multiarray.scalar\n",
      "          - *id001\n",
      "          - !!binary |\n",
      "            MgAAAAAAAAA=\n",
      "        - 1433\n",
      "        dtype: float32\n",
      "        name: input_9\n",
      "        ragged: false\n",
      "        sparse: false\n",
      "      inbound_nodes: []\n",
      "      name: input_9\n",
      "    state:\n",
      "      object_id: 1\n",
      "      ref_count: 1\n",
      "  - !!python/object/new:tensorflow.python.keras.utils.generic_utils.SharedObjectConfig\n",
      "    dictitems:\n",
      "      class_name: InputLayer\n",
      "      config:\n",
      "        batch_input_shape: !!python/tuple\n",
      "        - null\n",
      "        - !!python/object/apply:numpy.core.multiarray.scalar\n",
      "          - *id001\n",
      "          - !!binary |\n",
      "            AQAAAAAAAAA=\n",
      "        - 1433\n",
      "        dtype: float32\n",
      "        name: input_7\n",
      "        ragged: false\n",
      "        sparse: false\n",
      "      inbound_nodes: []\n",
      "      name: input_7\n",
      "    state:\n",
      "      object_id: 2\n",
      "      ref_count: 1\n",
      "  - !!python/object/new:tensorflow.python.keras.utils.generic_utils.SharedObjectConfig\n",
      "    dictitems:\n",
      "      class_name: Reshape\n",
      "      config:\n",
      "        dtype: float32\n",
      "        name: reshape_9\n",
      "        target_shape: !!python/tuple\n",
      "        - 1\n",
      "        - 10\n",
      "        - 1433\n",
      "        trainable: true\n",
      "      inbound_nodes:\n",
      "      - - - input_8\n",
      "          - 0\n",
      "          - 0\n",
      "          - {}\n",
      "      name: reshape_9\n",
      "    state:\n",
      "      object_id: 3\n",
      "      ref_count: 1\n",
      "  - !!python/object/new:tensorflow.python.keras.utils.generic_utils.SharedObjectConfig\n",
      "    dictitems:\n",
      "      class_name: Reshape\n",
      "      config:\n",
      "        dtype: float32\n",
      "        name: reshape_10\n",
      "        target_shape: !!python/tuple\n",
      "        - 10\n",
      "        - 5\n",
      "        - 1433\n",
      "        trainable: true\n",
      "      inbound_nodes:\n",
      "      - - - input_9\n",
      "          - 0\n",
      "          - 0\n",
      "          - {}\n",
      "      name: reshape_10\n",
      "    state:\n",
      "      object_id: 4\n",
      "      ref_count: 1\n",
      "  - !!python/object/new:tensorflow.python.keras.utils.generic_utils.SharedObjectConfig\n",
      "    dictitems:\n",
      "      class_name: Dropout\n",
      "      config:\n",
      "        dtype: float32\n",
      "        name: dropout_13\n",
      "        noise_shape: null\n",
      "        rate: 0.0\n",
      "        seed: null\n",
      "        trainable: true\n",
      "      inbound_nodes:\n",
      "      - - - input_7\n",
      "          - 0\n",
      "          - 0\n",
      "          - {}\n",
      "      name: dropout_13\n",
      "    state:\n",
      "      object_id: 5\n",
      "      ref_count: 1\n",
      "  - !!python/object/new:tensorflow.python.keras.utils.generic_utils.SharedObjectConfig\n",
      "    dictitems:\n",
      "      class_name: Dropout\n",
      "      config:\n",
      "        dtype: float32\n",
      "        name: dropout_12\n",
      "        noise_shape: null\n",
      "        rate: 0.0\n",
      "        seed: null\n",
      "        trainable: true\n",
      "      inbound_nodes:\n",
      "      - - - reshape_9\n",
      "          - 0\n",
      "          - 0\n",
      "          - {}\n",
      "      name: dropout_12\n",
      "    state:\n",
      "      object_id: 6\n",
      "      ref_count: 1\n",
      "  - !!python/object/new:tensorflow.python.keras.utils.generic_utils.SharedObjectConfig\n",
      "    dictitems:\n",
      "      class_name: Dropout\n",
      "      config:\n",
      "        dtype: float32\n",
      "        name: dropout_15\n",
      "        noise_shape: null\n",
      "        rate: 0.0\n",
      "        seed: null\n",
      "        trainable: true\n",
      "      inbound_nodes:\n",
      "      - - - input_8\n",
      "          - 0\n",
      "          - 0\n",
      "          - {}\n",
      "      name: dropout_15\n",
      "    state:\n",
      "      object_id: 7\n",
      "      ref_count: 1\n",
      "  - !!python/object/new:tensorflow.python.keras.utils.generic_utils.SharedObjectConfig\n",
      "    dictitems:\n",
      "      class_name: Dropout\n",
      "      config:\n",
      "        dtype: float32\n",
      "        name: dropout_14\n",
      "        noise_shape: null\n",
      "        rate: 0.0\n",
      "        seed: null\n",
      "        trainable: true\n",
      "      inbound_nodes:\n",
      "      - - - reshape_10\n",
      "          - 0\n",
      "          - 0\n",
      "          - {}\n",
      "      name: dropout_14\n",
      "    state:\n",
      "      object_id: 8\n",
      "      ref_count: 1\n",
      "  - !!python/object/new:tensorflow.python.keras.utils.generic_utils.SharedObjectConfig\n",
      "    dictitems:\n",
      "      class_name: MeanAggregator\n",
      "      config:\n",
      "        act: relu\n",
      "        bias: true\n",
      "        bias_constraint: null\n",
      "        bias_initializer: !!python/object/new:tensorflow.python.keras.utils.generic_utils.SharedObjectConfig\n",
      "          dictitems:\n",
      "            class_name: Zeros\n",
      "            config: {}\n",
      "          state:\n",
      "            object_id: 10\n",
      "            ref_count: 1\n",
      "        bias_regularizer: null\n",
      "        dtype: float32\n",
      "        kernel_constraint: null\n",
      "        kernel_initializer: !!python/object/new:tensorflow.python.keras.utils.generic_utils.SharedObjectConfig\n",
      "          dictitems:\n",
      "            class_name: GlorotUniform\n",
      "            config:\n",
      "              seed: null\n",
      "          state:\n",
      "            object_id: 9\n",
      "            ref_count: 1\n",
      "        kernel_regularizer: null\n",
      "        name: mean_aggregator_2\n",
      "        output_dim: 50\n",
      "        trainable: true\n",
      "      inbound_nodes:\n",
      "      - - - dropout_13\n",
      "          - 0\n",
      "          - 0\n",
      "          - &id002 {}\n",
      "        - - dropout_12\n",
      "          - 0\n",
      "          - 0\n",
      "          - *id002\n",
      "      - - - dropout_15\n",
      "          - 0\n",
      "          - 0\n",
      "          - &id003 {}\n",
      "        - - dropout_14\n",
      "          - 0\n",
      "          - 0\n",
      "          - *id003\n",
      "      name: mean_aggregator_2\n",
      "    state:\n",
      "      object_id: 11\n",
      "      ref_count: 1\n",
      "  - !!python/object/new:tensorflow.python.keras.utils.generic_utils.SharedObjectConfig\n",
      "    dictitems:\n",
      "      class_name: Reshape\n",
      "      config:\n",
      "        dtype: float32\n",
      "        name: reshape_11\n",
      "        target_shape: !!python/tuple\n",
      "        - 1\n",
      "        - 10\n",
      "        - 50\n",
      "        trainable: true\n",
      "      inbound_nodes:\n",
      "      - - - mean_aggregator_2\n",
      "          - 1\n",
      "          - 0\n",
      "          - {}\n",
      "      name: reshape_11\n",
      "    state:\n",
      "      object_id: 12\n",
      "      ref_count: 1\n",
      "  - !!python/object/new:tensorflow.python.keras.utils.generic_utils.SharedObjectConfig\n",
      "    dictitems:\n",
      "      class_name: Dropout\n",
      "      config:\n",
      "        dtype: float32\n",
      "        name: dropout_17\n",
      "        noise_shape: null\n",
      "        rate: 0.0\n",
      "        seed: null\n",
      "        trainable: true\n",
      "      inbound_nodes:\n",
      "      - - - mean_aggregator_2\n",
      "          - 0\n",
      "          - 0\n",
      "          - {}\n",
      "      name: dropout_17\n",
      "    state:\n",
      "      object_id: 13\n",
      "      ref_count: 1\n",
      "  - !!python/object/new:tensorflow.python.keras.utils.generic_utils.SharedObjectConfig\n",
      "    dictitems:\n",
      "      class_name: Dropout\n",
      "      config:\n",
      "        dtype: float32\n",
      "        name: dropout_16\n",
      "        noise_shape: null\n",
      "        rate: 0.0\n",
      "        seed: null\n",
      "        trainable: true\n",
      "      inbound_nodes:\n",
      "      - - - reshape_11\n",
      "          - 0\n",
      "          - 0\n",
      "          - {}\n",
      "      name: dropout_16\n",
      "    state:\n",
      "      object_id: 14\n",
      "      ref_count: 1\n",
      "  - !!python/object/new:tensorflow.python.keras.utils.generic_utils.SharedObjectConfig\n",
      "    dictitems:\n",
      "      class_name: MeanAggregator\n",
      "      config:\n",
      "        act: linear\n",
      "        bias: true\n",
      "        bias_constraint: null\n",
      "        bias_initializer: !!python/object/new:tensorflow.python.keras.utils.generic_utils.SharedObjectConfig\n",
      "          dictitems:\n",
      "            class_name: Zeros\n",
      "            config: {}\n",
      "          state:\n",
      "            object_id: 16\n",
      "            ref_count: 1\n",
      "        bias_regularizer: null\n",
      "        dtype: float32\n",
      "        kernel_constraint: null\n",
      "        kernel_initializer: !!python/object/new:tensorflow.python.keras.utils.generic_utils.SharedObjectConfig\n",
      "          dictitems:\n",
      "            class_name: GlorotUniform\n",
      "            config:\n",
      "              seed: null\n",
      "          state:\n",
      "            object_id: 15\n",
      "            ref_count: 1\n",
      "        kernel_regularizer: null\n",
      "        name: mean_aggregator_3\n",
      "        output_dim: 50\n",
      "        trainable: true\n",
      "      inbound_nodes:\n",
      "      - - - dropout_17\n",
      "          - 0\n",
      "          - 0\n",
      "          - &id004 {}\n",
      "        - - dropout_16\n",
      "          - 0\n",
      "          - 0\n",
      "          - *id004\n",
      "      name: mean_aggregator_3\n",
      "    state:\n",
      "      object_id: 17\n",
      "      ref_count: 1\n",
      "  - !!python/object/new:tensorflow.python.keras.utils.generic_utils.SharedObjectConfig\n",
      "    dictitems:\n",
      "      class_name: Reshape\n",
      "      config:\n",
      "        dtype: float32\n",
      "        name: reshape_12\n",
      "        target_shape: !!python/tuple\n",
      "        - 50\n",
      "        trainable: true\n",
      "      inbound_nodes:\n",
      "      - - - mean_aggregator_3\n",
      "          - 0\n",
      "          - 0\n",
      "          - {}\n",
      "      name: reshape_12\n",
      "    state:\n",
      "      object_id: 18\n",
      "      ref_count: 1\n",
      "  - !!python/object/new:tensorflow.python.keras.utils.generic_utils.SharedObjectConfig\n",
      "    dictitems:\n",
      "      class_name: Lambda\n",
      "      config:\n",
      "        arguments: {}\n",
      "        dtype: float32\n",
      "        function: !!python/tuple\n",
      "        - '4wEAAAAAAAAAAQAAAAQAAABTAAAAcw4AAAB0AGoBfABkAWQCjQJTACkDTun/////KQHaBGF4aXMp\n",
      "\n",
      "          AtoBS9oMbDJfbm9ybWFsaXplKQHaAXipAHIGAAAA+kYvb3B0L2NvbmRhL2xpYi9weXRob24zLjcv\n",
      "\n",
      "          c2l0ZS1wYWNrYWdlcy9zdGVsbGFyZ3JhcGgvbGF5ZXIvZ3JhcGhzYWdlLnB52gg8bGFtYmRhPkQD\n",
      "\n",
      "          AADzAAAAAA==\n",
      "\n",
      "          '\n",
      "        - null\n",
      "        - null\n",
      "        function_type: lambda\n",
      "        module: stellargraph.layer.graphsage\n",
      "        name: lambda_1\n",
      "        output_shape: null\n",
      "        output_shape_module: null\n",
      "        output_shape_type: raw\n",
      "        trainable: true\n",
      "      inbound_nodes:\n",
      "      - - - reshape_12\n",
      "          - 0\n",
      "          - 0\n",
      "          - {}\n",
      "      name: lambda_1\n",
      "    state:\n",
      "      object_id: 19\n",
      "      ref_count: 1\n",
      "  name: model_2\n",
      "  output_layers:\n",
      "  - - lambda_1\n",
      "    - 0\n",
      "    - 0\n",
      "keras_version: 2.5.0\n",
      "\n"
     ]
    }
   ],
   "source": [
    "print(embedding_model.to_yaml())"
   ]
  },
  {
   "cell_type": "code",
   "execution_count": 116,
   "metadata": {
    "tags": []
   },
   "outputs": [],
   "source": [
    "node_ids = node_subjects.index\n",
    "node_gen = GraphSAGENodeGenerator(G, batch_size, num_samples).flow(node_ids)"
   ]
  },
  {
   "cell_type": "code",
   "execution_count": 117,
   "metadata": {},
   "outputs": [
    {
     "data": {
      "text/plain": [
       "<stellargraph.mapper.sequences.NodeSequence at 0x7f0cd823db10>"
      ]
     },
     "execution_count": 117,
     "metadata": {},
     "output_type": "execute_result"
    }
   ],
   "source": [
    "node_gen"
   ]
  },
  {
   "cell_type": "markdown",
   "metadata": {},
   "source": [
    "We now use `node_gen` to feed all nodes into the embedding model and extract their embeddings:"
   ]
  },
  {
   "cell_type": "code",
   "execution_count": 118,
   "metadata": {},
   "outputs": [
    {
     "name": "stdout",
     "output_type": "stream",
     "text": [
      "55/55 [==============================] - 3s 50ms/step\n"
     ]
    }
   ],
   "source": [
    "node_embeddings = embedding_model.predict(node_gen, workers=4, verbose=1)"
   ]
  },
  {
   "cell_type": "code",
   "execution_count": 50,
   "metadata": {},
   "outputs": [
    {
     "name": "stdout",
     "output_type": "stream",
     "text": [
      "(2708, 50)\n"
     ]
    },
    {
     "data": {
      "text/plain": [
       "array([[ 0.1853431 , -0.16352363,  0.04608545, ..., -0.19880378,\n",
       "         0.24150166,  0.13763179],\n",
       "       [-0.0555297 ,  0.1153781 , -0.05418856, ...,  0.29246873,\n",
       "        -0.07043473, -0.02337126],\n",
       "       [ 0.07884745, -0.1690926 , -0.02278187, ..., -0.22000478,\n",
       "         0.08595546, -0.00236629],\n",
       "       ...,\n",
       "       [ 0.1817375 , -0.1045687 ,  0.10559291, ..., -0.22211654,\n",
       "        -0.18771826,  0.11016741],\n",
       "       [-0.10707778,  0.03067112, -0.20666535, ...,  0.23242109,\n",
       "        -0.10608109,  0.2406057 ],\n",
       "       [-0.11886715,  0.10148332,  0.08533176, ...,  0.05311844,\n",
       "         0.02627985, -0.29773912]], dtype=float32)"
      ]
     },
     "execution_count": 50,
     "metadata": {},
     "output_type": "execute_result"
    }
   ],
   "source": [
    "## creates embedding for each node/paper.\n",
    "#\n",
    "print(node_embeddings.shape)\n",
    "node_embeddings"
   ]
  },
  {
   "cell_type": "code",
   "execution_count": 119,
   "metadata": {},
   "outputs": [
    {
     "data": {
      "text/plain": [
       "array([-1.12770900e-01,  7.60416463e-02, -1.80205792e-01, -4.36440483e-02,\n",
       "       -6.72146305e-02,  1.11286454e-01, -3.48004326e-02, -1.01853520e-01,\n",
       "        1.46966085e-01,  1.17061406e-01,  4.16357927e-02, -1.73747554e-01,\n",
       "        1.66040599e-01,  6.72509521e-02, -1.40517056e-01, -1.25247106e-01,\n",
       "       -2.13250041e-01,  8.88091177e-02,  1.38808444e-01,  1.84513837e-01,\n",
       "       -1.00274466e-01,  1.72862366e-01, -9.17564183e-02,  8.85962024e-02,\n",
       "       -1.69168159e-01,  1.68811336e-01, -2.40446141e-04, -2.13542543e-02,\n",
       "       -7.12386286e-03, -1.35130584e-01,  4.31351736e-02,  3.14008683e-01,\n",
       "       -1.75074965e-01, -1.43935904e-01,  1.78241849e-01, -5.89426011e-02,\n",
       "        1.90362945e-01, -1.83103770e-01, -1.09342098e-01,  1.64675415e-01,\n",
       "        4.67224559e-03, -1.91602036e-01, -1.21298902e-01, -1.35946721e-01,\n",
       "       -7.41489828e-02,  6.28275797e-02, -2.83994853e-01, -2.54138499e-01,\n",
       "       -3.90398912e-02, -1.51893154e-01], dtype=float32)"
      ]
     },
     "execution_count": 119,
     "metadata": {},
     "output_type": "execute_result"
    }
   ],
   "source": [
    "# a paper node embedding with 50 dims.\n",
    "node_embeddings[0]"
   ]
  },
  {
   "cell_type": "markdown",
   "metadata": {},
   "source": [
    "### Visualize the node embeddings \n",
    "Next we visualize the node embeddings in 2D using t-SNE. Colors of the nodes depict their true classes (subject in the case of Cora dataset) of the nodes. "
   ]
  },
  {
   "cell_type": "code",
   "execution_count": 120,
   "metadata": {},
   "outputs": [],
   "source": [
    "node_subject = node_subjects.astype(\"category\").cat.codes\n",
    "\n",
    "X = node_embeddings\n",
    "if X.shape[1] > 2:\n",
    "    transform = TSNE  # PCA\n",
    "\n",
    "    trans = transform(n_components=2)\n",
    "    emb_transformed = pd.DataFrame(trans.fit_transform(X), index=node_ids)\n",
    "    emb_transformed[\"label\"] = node_subject\n",
    "else:\n",
    "    emb_transformed = pd.DataFrame(X, index=node_ids)\n",
    "    emb_transformed = emb_transformed.rename(columns={\"0\": 0, \"1\": 1})\n",
    "    emb_transformed[\"label\"] = node_subject"
   ]
  },
  {
   "cell_type": "code",
   "execution_count": 121,
   "metadata": {},
   "outputs": [
    {
     "data": {
      "image/png": "[encoded data removed]",
      "text/plain": [
       "<Figure size 504x504 with 1 Axes>"
      ]
     },
     "metadata": {
      "needs_background": "light"
     },
     "output_type": "display_data"
    }
   ],
   "source": [
    "alpha = 0.7\n",
    "\n",
    "fig, ax = plt.subplots(figsize=(7, 7))\n",
    "ax.scatter(\n",
    "    emb_transformed[0],\n",
    "    emb_transformed[1],\n",
    "    c=emb_transformed[\"label\"].astype(\"category\"),\n",
    "    cmap=\"jet\",\n",
    "    alpha=alpha,\n",
    ")\n",
    "ax.set(aspect=\"equal\", xlabel=\"$X_1$\", ylabel=\"$X_2$\")\n",
    "plt.title(\n",
    "    \"{} visualization of GraphSAGE embeddings for cora dataset\".format(transform.__name__)\n",
    ")\n",
    "plt.show()"
   ]
  },
  {
   "cell_type": "markdown",
   "metadata": {},
   "source": [
    "The observation that same-colored nodes in the embedding space are concentrated together is indicative  of similarity of embeddings of papers on the same topics. We would emphasize here again that the node embeddings are learnt in unsupervised way, without using true class labels. "
   ]
  },
  {
   "cell_type": "markdown",
   "metadata": {},
   "source": [
    "## Downstream task\n",
    "\n",
    "The node embeddings calculated using the unsupervised GraphSAGE can be used as node feature vectors in a downstream task such as node classification. \n",
    "\n",
    "In this example, we will use the  node embeddings to train a simple Logistic Regression classifier to predict paper subjects in Cora dataset."
   ]
  },
  {
   "cell_type": "code",
   "execution_count": 122,
   "metadata": {},
   "outputs": [],
   "source": [
    "# X will hold the 50 input features (node embeddings)\n",
    "X = node_embeddings\n",
    "# y holds the corresponding target values\n",
    "y = np.array(node_subject)"
   ]
  },
  {
   "cell_type": "markdown",
   "metadata": {},
   "source": [
    "### Data Splitting\n",
    "\n",
    "We split the data into train and test sets. \n",
    "\n",
    "We use 5% of the data for training and the remaining 95% for testing as a hold out test set."
   ]
  },
  {
   "cell_type": "code",
   "execution_count": 123,
   "metadata": {},
   "outputs": [],
   "source": [
    "X_train, X_test, y_train, y_test = train_test_split(\n",
    "    X, y, train_size=0.05, test_size=None, stratify=y\n",
    ")"
   ]
  },
  {
   "cell_type": "markdown",
   "metadata": {},
   "source": [
    "### Classifier Training\n",
    "\n",
    "We train a Logistic Regression classifier on the training data. "
   ]
  },
  {
   "cell_type": "code",
   "execution_count": 124,
   "metadata": {},
   "outputs": [
    {
     "data": {
      "text/plain": [
       "LogisticRegression()"
      ]
     },
     "execution_count": 124,
     "metadata": {},
     "output_type": "execute_result"
    }
   ],
   "source": [
    "clf = LogisticRegression(verbose=0, solver=\"lbfgs\", multi_class=\"auto\")\n",
    "clf.fit(X_train, y_train)"
   ]
  },
  {
   "cell_type": "markdown",
   "metadata": {},
   "source": [
    "Predict the hold out test set."
   ]
  },
  {
   "cell_type": "code",
   "execution_count": 125,
   "metadata": {},
   "outputs": [],
   "source": [
    "y_pred = clf.predict(X_test)"
   ]
  },
  {
   "cell_type": "markdown",
   "metadata": {},
   "source": [
    "Calculate the accuracy of the classifier on the test set."
   ]
  },
  {
   "cell_type": "code",
   "execution_count": 126,
   "metadata": {},
   "outputs": [
    {
     "data": {
      "text/plain": [
       "0.7605907500971628"
      ]
     },
     "execution_count": 126,
     "metadata": {},
     "output_type": "execute_result"
    }
   ],
   "source": [
    "accuracy_score(y_test, y_pred)"
   ]
  },
  {
   "cell_type": "markdown",
   "metadata": {},
   "source": [
    "The obtained accuracy is pretty decent, better than that obtained by using node embeddings obtained by `node2vec` that ignores node attributes, only taking into account the graph structure (see this [demo](node2vec-embeddings.ipynb)). "
   ]
  },
  {
   "cell_type": "markdown",
   "metadata": {},
   "source": [
    "**Predicted classes**"
   ]
  },
  {
   "cell_type": "code",
   "execution_count": 127,
   "metadata": {},
   "outputs": [
    {
     "data": {
      "text/plain": [
       "2    762\n",
       "1    421\n",
       "3    392\n",
       "0    362\n",
       "6    361\n",
       "4    229\n",
       "5     46\n",
       "dtype: int64"
      ]
     },
     "execution_count": 127,
     "metadata": {},
     "output_type": "execute_result"
    }
   ],
   "source": [
    "pd.Series(y_pred).value_counts()"
   ]
  },
  {
   "cell_type": "markdown",
   "metadata": {},
   "source": [
    "**True classes**"
   ]
  },
  {
   "cell_type": "code",
   "execution_count": 128,
   "metadata": {},
   "outputs": [
    {
     "data": {
      "text/plain": [
       "2    818\n",
       "3    426\n",
       "1    418\n",
       "6    351\n",
       "0    298\n",
       "4    217\n",
       "5    180\n",
       "dtype: int64"
      ]
     },
     "execution_count": 128,
     "metadata": {},
     "output_type": "execute_result"
    }
   ],
   "source": [
    "pd.Series(y).value_counts()"
   ]
  },
  {
   "cell_type": "code",
   "execution_count": null,
   "metadata": {},
   "outputs": [],
   "source": []
  },
  {
   "cell_type": "markdown",
   "metadata": {},
   "source": [
    "### Uses for unsupervised graph representation learning\n",
    "1. Unsupervised GraphSAGE learns embeddings of unlabeled graph nodes. This is highly useful as most of the real-world data is typically either unlabeled, or have noisy, unreliable, or sparse labels. In such scenarios unsupervised techniques that learn low-dimensional meaningful representation of nodes in a graph by leveraging the graph structure and features of the nodes is useful.\n",
    "2. Moreover, GraphSAGE is an inductive technique that allows us to obtain embeddings of unseen nodes, without the need to re-train the embedding model. That is, instead of training individual embeddings for each node (as in algorithms such as `node2vec` that learn a look-up table of node embeddings), GraphSAGE learns a function that generates embeddings by sampling and aggregating attributes from each node's local neighborhood, and combining those with the node's own attributes."
   ]
  },
  {
   "cell_type": "markdown",
   "metadata": {
    "nbsphinx": "hidden",
    "tags": [
     "CloudRunner"
    ]
   },
   "source": [
    "<table><tr><td>Run the latest release of this notebook:</td><td><a href=\"https://mybinder.org/v2/gh/stellargraph/stellargraph/master?urlpath=lab/tree/demos/embeddings/graphsage-unsupervised-sampler-embeddings.ipynb\" alt=\"Open In Binder\" target=\"_parent\"><img src=\"https://mybinder.org/badge_logo.svg\"/></a></td><td><a href=\"https://colab.research.google.com/github/stellargraph/stellargraph/blob/master/demos/embeddings/graphsage-unsupervised-sampler-embeddings.ipynb\" alt=\"Open In Colab\" target=\"_parent\"><img src=\"https://colab.research.google.com/assets/colab-badge.svg\"/></a></td></tr></table>"
   ]
  },
  {
   "cell_type": "code",
   "execution_count": null,
   "metadata": {},
   "outputs": [],
   "source": []
  }
 ],
 "metadata": {
  "environment": {
   "name": "common-cpu.m71",
   "type": "gcloud",
   "uri": "gcr.io/deeplearning-platform-release/base-cpu:m71"
  },
  "file_extension": ".py",
  "kernelspec": {
   "display_name": "Python 3",
   "language": "python",
   "name": "python3"
  },
  "language_info": {
   "codemirror_mode": {
    "name": "ipython",
    "version": 3
   },
   "file_extension": ".py",
   "mimetype": "text/x-python",
   "name": "python",
   "nbconvert_exporter": "python",
   "pygments_lexer": "ipython3",
   "version": "3.7.10"
  },
  "mimetype": "text/x-python",
  "name": "python",
  "npconvert_exporter": "python",
  "pygments_lexer": "ipython3",
  "version": 3
 },
 "nbformat": 4,
 "nbformat_minor": 4
}
